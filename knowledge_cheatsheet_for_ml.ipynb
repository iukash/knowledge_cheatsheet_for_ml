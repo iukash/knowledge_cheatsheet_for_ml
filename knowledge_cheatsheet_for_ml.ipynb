{
 "cells": [
  {
   "cell_type": "markdown",
   "id": "c6836912",
   "metadata": {},
   "source": [
    "## Шпаргалка по знаниям по машинному обучению"
   ]
  },
  {
   "cell_type": "markdown",
   "id": "e753f649",
   "metadata": {},
   "source": [
    "### Предобработка данных\n",
    "* Библиотеки для предобработки \n",
    " * [ydata-profiling](https://ydata-profiling.ydata.ai/docs/master/index.html) (пример [titanic](https://ydata-profiling.ydata.ai/examples/master/titanic/titanic_report.html)) \n",
    " * [sweetviz](https://pypi.org/project/sweetviz/) (пример [titanic](http://cooltiming.com/SWEETVIZ_REPORT.html))\n",
    "* [pandas](http://localhost:8888/notebooks/knowledge_cheatsheet_for_ml/preprocessing/pandas.ipynb) + pivottablejs\n",
    "* [numpy](http://localhost:8888/notebooks/knowledge_cheatsheet_for_ml/preprocessing/numpy.ipynb)\n",
    "* [работа со строками](http://localhost:8888/notebooks/knowledge_cheatsheet_for_ml/preprocessing/string.ipynb)\n",
    "* [визуализация](http://localhost:8888/notebooks/knowledge_cheatsheet_for_ml/preprocessing/visualization.ipynb)\n",
    "* [статья про интерактив](https://habr.com/ru/post/485318/)\n",
    "* Дашбординг (пока только некое [подобие](https://iukash.shinyapps.io/power_analysys_shiny/) в части мощности и то на r)\n",
    "\n",
    "### [Статистические тесты](http://localhost:8888/notebooks/knowledge_cheatsheet_for_ml/StatTests/StatTests.ipynb)\n",
    "\n",
    "### Машинное обучение\n",
    "* [классификация](http://localhost:8888/notebooks/knowledge_cheatsheet_for_ml/machine_learning/classification.ipynb)\n",
    "* [регрессия](http://localhost:8888/notebooks/knowledge_cheatsheet_for_ml/machine_learning/regression.ipynb)\n",
    "* [кластеризация метрики и методы](http://localhost:8888/notebooks/knowledge_cheatsheet_for_ml/machine_learning/my_ml_algoritms/ClusterizationMetricsAndKMeans.ipynb)\n",
    "* снижение размерности ([метод главных компонент](http://localhost:8888/notebooks/knowledge_cheatsheet_for_ml/machine_learning/my_ml_algoritms/PrincipalComponentAnalysis.ipynb))\n",
    "* [полезные функции](http://localhost:8888/notebooks/knowledge_cheatsheet_for_ml/machine_learning/function.ipynb)\n",
    "* [временные ряды](http://localhost:8888/notebooks/knowledge_cheatsheet_for_ml/machine_learning/time_series.ipynb)\n",
    "* [keras](http://localhost:8888/notebooks/knowledge_cheatsheet_for_ml/machine_learning/keras.ipynb)\n",
    "\n",
    "### [SQL](http://localhost:8888/notebooks/knowledge_cheatsheet_for_ml/SQL/sql.ipynb)\n",
    "### [reinforcement_learning](http://localhost:8888/tree/knowledge_cheatsheet_for_ml/algoritms)\n",
    "### [algoritms](http://localhost:8888/tree/knowledge_cheatsheet_for_ml/algoritms)\n",
    "### [mathematica](http://localhost:8888/tree/knowledge_cheatsheet_for_ml/Mathematica)"
   ]
  },
  {
   "cell_type": "code",
   "execution_count": null,
   "id": "aaef283f",
   "metadata": {},
   "outputs": [],
   "source": []
  }
 ],
 "metadata": {
  "kernelspec": {
   "display_name": "Python 3 (ipykernel)",
   "language": "python",
   "name": "python3"
  },
  "language_info": {
   "codemirror_mode": {
    "name": "ipython",
    "version": 3
   },
   "file_extension": ".py",
   "mimetype": "text/x-python",
   "name": "python",
   "nbconvert_exporter": "python",
   "pygments_lexer": "ipython3",
   "version": "3.10.12"
  }
 },
 "nbformat": 4,
 "nbformat_minor": 5
}
