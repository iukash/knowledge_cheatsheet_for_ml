{
 "cells": [
  {
   "cell_type": "markdown",
   "id": "e2862d67",
   "metadata": {},
   "source": [
    "### <a class=\"anchor\" id=\"sql\"></a> SQL\n",
    "* `CAST(поле AS тип данных)` изменение типа данных\n",
    "* `BETWEEN значение_1 AND значение_2` срез промежутка данных\n",
    "* `EXTRACT(часть_даты FROM поле) AS новое_поле_с_датой` извлечение части даты\n",
    "* `DATE_TRUNC('часть_даты_до_которой_усекаем', поле) AS новое_поле_с_датой` усечение части даты\n",
    "* `INNER JOIN таблица_2 ON таблица_1.поле_1 = таблица_2.поле_2;` объединение таблиц (несовпадающие значения не войдут в финальную таблицу)\n",
    "* `LEFT JOIN таблица_2 ON таблица_1.поле_1 = таблица_2.поле_2;` объединение таблиц (значения левой таблицы для которых отсутстуют правые будут равно NULL)\n",
    "* `SELECT поле_1\n",
    "FROM таблица_1\n",
    "UNION --( или UNION ALL)\n",
    "SELECT поле_2\n",
    "FROM таблица_2;` вертикальное соединение таблиц"
   ]
  },
  {
   "cell_type": "code",
   "execution_count": null,
   "id": "03efbd33",
   "metadata": {},
   "outputs": [],
   "source": []
  }
 ],
 "metadata": {
  "kernelspec": {
   "display_name": "Python 3 (ipykernel)",
   "language": "python",
   "name": "python3"
  },
  "language_info": {
   "codemirror_mode": {
    "name": "ipython",
    "version": 3
   },
   "file_extension": ".py",
   "mimetype": "text/x-python",
   "name": "python",
   "nbconvert_exporter": "python",
   "pygments_lexer": "ipython3",
   "version": "3.10.6"
  }
 },
 "nbformat": 4,
 "nbformat_minor": 5
}
