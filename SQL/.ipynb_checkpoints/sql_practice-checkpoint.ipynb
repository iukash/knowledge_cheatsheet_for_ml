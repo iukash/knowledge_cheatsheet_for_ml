{
 "cells": [
  {
   "cell_type": "code",
   "execution_count": 2,
   "id": "dcf9ea54-32a2-45c5-96c8-97b6cf2353ca",
   "metadata": {},
   "outputs": [],
   "source": [
    "import sqlite3"
   ]
  },
  {
   "cell_type": "code",
   "execution_count": 3,
   "id": "ca7313c8-5045-4c1b-a14c-41760bd404fd",
   "metadata": {},
   "outputs": [
    {
     "data": {
      "text/plain": [
       "'3.35.5'"
      ]
     },
     "execution_count": 3,
     "metadata": {},
     "output_type": "execute_result"
    }
   ],
   "source": [
    "sqlite3.sqlite_version"
   ]
  },
  {
   "cell_type": "code",
   "execution_count": 4,
   "id": "ccf07c5b-fba4-44ac-8285-d7eb083aedae",
   "metadata": {},
   "outputs": [],
   "source": [
    "con = sqlite3.connect('db')"
   ]
  },
  {
   "cell_type": "code",
   "execution_count": null,
   "id": "9cfaca6c-f9f9-4322-8555-526de6157617",
   "metadata": {},
   "outputs": [],
   "source": []
  }
 ],
 "metadata": {
  "kernelspec": {
   "display_name": "Python 3 (ipykernel)",
   "language": "python",
   "name": "python3"
  },
  "language_info": {
   "codemirror_mode": {
    "name": "ipython",
    "version": 3
   },
   "file_extension": ".py",
   "mimetype": "text/x-python",
   "name": "python",
   "nbconvert_exporter": "python",
   "pygments_lexer": "ipython3",
   "version": "3.8.10"
  }
 },
 "nbformat": 4,
 "nbformat_minor": 5
}
