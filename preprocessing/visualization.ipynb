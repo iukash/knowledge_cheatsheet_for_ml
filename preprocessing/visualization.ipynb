{
 "cells": [
  {
   "cell_type": "markdown",
   "id": "a15f95b2",
   "metadata": {},
   "source": [
    "### Визуализация\n",
    "* [Matplotlib](https://matplotlib.org/)  <a class=\"anchor\" id=\"matplotlib\"></a> `import matplotlib.pyplot as plt`\n",
    " * [hist()](https://matplotlib.org/stable/api/_as_gen/matplotlib.pyplot.hist.html) - гистограмма `plt.hist(x=Series, bins=n, range=(min, max))`\n",
    " * [boxplot()](https://matplotlib.org/stable/api/_as_gen/matplotlib.pyplot.boxplot.html) - ящик с усами `plt.boxplot(x=Series)`\n",
    " * [scatter()](https://matplotlib.org/stable/api/_as_gen/matplotlib.pyplot.scatter.html) - диаграмма рассеяния `plt.scatter(x, y)`\n",
    " * [plot()](https://matplotlib.org/stable/api/_as_gen/matplotlib.pyplot.plot.html) - график между точками `plt.plot(x, y, style='o-', grid=True, figsize=(x, y), xlim=, ylim=)`\n",
    " * [график по дате для нескольких столбцов](https://disk.yandex.ru/client/disk/%D0%BC%D0%B0%D1%82%D0%B5%D1%80%D0%B8%D0%B0%D0%BB%D1%8B%20%D1%8F%D0%BD%D0%B4%D0%B5%D0%BA%D1%81.%D0%BF%D1%80%D0%B0%D0%BA%D1%82%D0%B8%D0%BA%D1%83%D0%BC/%D0%9F%D0%BE%D0%BB%D0%B5%D0%B7%D0%BD%D1%8B%D0%B5%20%D1%81%D0%BA%D1%80%D0%B8%D0%BD%D1%8B%20(%D1%81%D1%81%D1%8B%D0%BB%D0%BA%D0%B8%20%D0%B8%D0%B7%20%D1%88%D0%BF%D0%B0%D1%80%D0%B3%D0%B0%D0%BB%D0%BA%D0%B8)?idApp=client&dialog=slider&idDialog=%2Fdisk%2F%D0%BC%D0%B0%D1%82%D0%B5%D1%80%D0%B8%D0%B0%D0%BB%D1%8B%20%D1%8F%D0%BD%D0%B4%D0%B5%D0%BA%D1%81.%D0%BF%D1%80%D0%B0%D0%BA%D1%82%D0%B8%D0%BA%D1%83%D0%BC%2F%D0%9F%D0%BE%D0%BB%D0%B5%D0%B7%D0%BD%D1%8B%D0%B5%20%D1%81%D0%BA%D1%80%D0%B8%D0%BD%D1%8B%20(%D1%81%D1%81%D1%8B%D0%BB%D0%BA%D0%B8%20%D0%B8%D0%B7%20%D1%88%D0%BF%D0%B0%D1%80%D0%B3%D0%B0%D0%BB%D0%BA%D0%B8)%2Fpython%20%D0%B3%D1%80%D0%B0%D1%84%D0%B8%D0%BA%20%D0%BF%D0%BE%20%D0%B4%D0%B0%D1%82%D0%B5.png) `for i, colname in enumerate(columns):`   `plt.subplot(len(columns), 1, i+1)`\n",
    "* [Seaborn](https://seaborn.pydata.org/)  <a class=\"anchor\" id=\"seaborn\"></a> `import seaborn as sns`\n",
    " * [barplot()](https://seaborn.pydata.org/generated/seaborn.barplot.html) - построить столбчатую диаграмму `sns.barplot(data=df, x='col_x', y='col_y')`\n",
    " * [lineplot()](https://seaborn.pydata.org/generated/seaborn.lineplot.html) - построить график линией `sns.lineplot(data = df, x='col_x', y='col_y', hue='category', ci= None)`\n",
    " * [boxplot()](https://seaborn.pydata.org/generated/seaborn.boxplot.html) - ящичные диаграммы `sns.boxplot(data=df, x='col_x', y='col_y', hue='category', showfliers=True)`\n",
    " * [scatterplot()](https://seaborn.pydata.org/generated/seaborn.scatterplot.html) - диаграмма рассеяния `sns.scatterplot(data=df, x='x_col', y='y_col')`"
   ]
  },
  {
   "cell_type": "code",
   "execution_count": null,
   "id": "9c5308d3",
   "metadata": {},
   "outputs": [],
   "source": []
  }
 ],
 "metadata": {
  "kernelspec": {
   "display_name": "Python 3 (ipykernel)",
   "language": "python",
   "name": "python3"
  },
  "language_info": {
   "codemirror_mode": {
    "name": "ipython",
    "version": 3
   },
   "file_extension": ".py",
   "mimetype": "text/x-python",
   "name": "python",
   "nbconvert_exporter": "python",
   "pygments_lexer": "ipython3",
   "version": "3.10.6"
  }
 },
 "nbformat": 4,
 "nbformat_minor": 5
}
