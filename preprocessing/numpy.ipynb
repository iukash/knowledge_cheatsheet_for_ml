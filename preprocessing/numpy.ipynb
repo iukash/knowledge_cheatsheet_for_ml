{
 "cells": [
  {
   "cell_type": "markdown",
   "id": "64ac6a02",
   "metadata": {},
   "source": [
    "### [Numpy](https://numpy.org/doc/)  `import numpy as np`\n",
    "* линейная алгебра\n",
    " * [dot()](https://numpy.org/doc/stable/reference/generated/numpy.dot.html) - скалярное произведение векторов/матриц `np.dot(vector1, vector2)`\n",
    " * [linalg.inv()](https://numpy.org/doc/stable/reference/generated/numpy.linalg.inv.html) - вычислить обратную матрицу `np.linalg.inv(matrix)`\n",
    "* расчет расстояний\n",
    " * [distance.euclidean()](https://docs.scipy.org/doc/scipy/reference/generated/scipy.spatial.distance.euclidean.html) - евклидово расстояние между векторами\n",
    "  * `import numpy as np from scipy.spatial import distance`\n",
    "  * `distance.euclidean(a, b)`\n",
    " * [distance.cityblock()](https://docs.scipy.org/doc/scipy/reference/generated/scipy.spatial.distance.cityblock.html) - Манхэттенское расстояние между векторами\n",
    "  * `import numpy as np from scipy.spatial import distance`\n",
    "  * `distance.cityblock(a, b)`\n",
    "* другие полезные функции\n",
    " * [arange()](https://numpy.org/doc/stable/reference/generated/numpy.arange.html) - в отличии от range работает с дробными числами `np.arange(0, 0.3, 0.02)`\n",
    " * [argmin()](https://numpy.org/doc/stable/reference/generated/numpy.argmin.html) - индекс минимального элемента `np.array(ar).argmin()`\n",
    " * [argmax()](https://numpy.org/doc/stable/reference/generated/numpy.argmax.html) - индекс максимального элемента `np.array(ar).argmax()`\n",
    " * [var()](https://numpy.org/doc/stable/reference/generated/numpy.var.html) - расчет дисперсии `np.var(array)`\n",
    " * [std()](https://numpy.org/doc/stable/reference/generated/numpy.std.html) - расчет среднего квадратичного отклонения СКО `np.std(array)`"
   ]
  },
  {
   "cell_type": "code",
   "execution_count": null,
   "id": "e9c0dba8",
   "metadata": {},
   "outputs": [],
   "source": []
  }
 ],
 "metadata": {
  "kernelspec": {
   "display_name": "Python 3 (ipykernel)",
   "language": "python",
   "name": "python3"
  },
  "language_info": {
   "codemirror_mode": {
    "name": "ipython",
    "version": 3
   },
   "file_extension": ".py",
   "mimetype": "text/x-python",
   "name": "python",
   "nbconvert_exporter": "python",
   "pygments_lexer": "ipython3",
   "version": "3.8.10"
  }
 },
 "nbformat": 4,
 "nbformat_minor": 5
}
