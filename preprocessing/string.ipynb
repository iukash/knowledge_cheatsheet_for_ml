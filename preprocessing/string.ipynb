{
 "cells": [
  {
   "cell_type": "markdown",
   "id": "17de6453",
   "metadata": {},
   "source": [
    "### [Строки](https://pythoninfo.ru/osnovy/str-python)\n",
    "* [upper()](https://docs-python.ru/tutorial/operatsii-tekstovymi-strokami-str-python/metod-str-upper/) - преобразует строку к верхнему регистру `str.upper()`\n",
    "* [lower()](https://docs-python.ru/tutorial/operatsii-tekstovymi-strokami-str-python/metod-str-lower/) - преобразует строку к нижнему регистру `str.lower()`\n",
    "* [find()](https://docs-python.ru/tutorial/operatsii-tekstovymi-strokami-str-python/metod-str-find/) - поиск подстроки, вернет индекс начала подстроки либо -1 в случае отсутствия `str.find(start_index, end_index)`\n",
    "* [replace()](https://docs-python.ru/tutorial/operatsii-tekstovymi-strokami-str-python/metod-str-replace/) - замена подстроки аргумента в строке `str.replace('str_old', 'str_replace')`\n",
    "* [split()](https://docs-python.ru/tutorial/operatsii-tekstovymi-strokami-str-python/metod-str-split/) - делит строку на список по разделителю `str.split(sep='/n', maxsplit=-1)`\n",
    "* [форматирование строк](https://practicum.yandex.ru/learn/data-scientist/courses/d40b492e-2aa3-4d6a-b51d-9f442463e9a2/sprints/16528/topics/a9499478-7fe5-4f86-8beb-58c753443495/lessons/5ae8e887-fe12-4773-8747-626e999567b3/)\n",
    "    * без f-строк `word 1: {0}, word 2: {1}, word 3: {2}'.format(word1, word2, word3)`\n",
    "    * с f-строками `f'word 1: {word1}, word 2: {word2}, word 3: {word3}'`\n",
    "* [стемминг](https://practicum.yandex.ru/learn/data-scientist/courses/6ecee377-0b07-4799-b0f6-1a87cdf90810/sprints/18599/topics/8d9cd355-9a61-4d8a-8668-54002204d348/lessons/786398f5-7565-482d-9efb-7c2d5bec8b32/) (выделение основы слова)\n",
    "* [лемматизация](https://practicum.yandex.ru/learn/data-scientist/courses/6ecee377-0b07-4799-b0f6-1a87cdf90810/sprints/18599/topics/8d9cd355-9a61-4d8a-8668-54002204d348/lessons/0cf86bb8-0f6e-4224-98d0-522c0b8f9256/) - приведение слова к словарной форме\n",
    " * `from pymystem3 import Mystem`\n",
    " * `m = Mystem()`\n",
    " * `m.lemmatize(text)`\n",
    "* **Получение корпуса в кодировке Юникод** `data['text'].values.astype('U')`\n",
    "* [re.sub()](https://docs-python.ru/standart-library/modul-re-python/funktsija-sub-modulja-re/) - Поиск в тексте всех совпадений по шаблону и замена их заданной строкой `re.sub(pattern, replacement, text)`\n",
    "* [CountVectorizer](https://scikit-learn.org/stable/modules/generated/sklearn.feature_extraction.text.CountVectorizer.html) - Получение мешка слов \n",
    " * `from sklearn.feature_extraction.text import CountVectorizer`\n",
    " * `count_vect = CountVectorizer(stop_words=stopwords) # stopwords - список стоп-слов`\n",
    " * `bow = count_vect.fit_transform(corpus) # bow, от англ. bag of words`\n",
    " * `words = count_vect.get_feature_names() # словарь уникальных слов`\n",
    "* [CountVectorizer](https://scikit-learn.org/stable/modules/generated/sklearn.feature_extraction.text.CountVectorizer.html) - Получение списка N-грамм \n",
    " * `n from sklearn.feature_extraction.text import CountVectorizer`\n",
    " * `count_vect = CountVectorizer(ngram_range=(min_n, max_n))`\n",
    "* **stopwords** - Получение стоп-слов для русского языка \n",
    " *`import nltk`\n",
    " * `from nltk.corpus import stopwords`\n",
    " * `nltk.download('stopwords')`\n",
    " * `stopwords = set(stopwords.words('russian'))`\n",
    "* [TfidfVectorizer](https://scikit-learn.org/stable/modules/generated/sklearn.feature_extraction.text.TfidfVectorizer.html) - Получение TF-IDF для корпуса текста \n",
    " * `from sklearn.feature_extraction.text import TfidfVectorizer`\n",
    " * `count_tf_idf = TfidfVectorizer(stop_words=stopwords) # stopwords - список стоп-слов`\n",
    " * `tf_idf = count_tf_idf.fit_transform(corpus)`"
   ]
  },
  {
   "cell_type": "code",
   "execution_count": null,
   "id": "bf4d688a",
   "metadata": {},
   "outputs": [],
   "source": []
  }
 ],
 "metadata": {
  "kernelspec": {
   "display_name": "Python 3 (ipykernel)",
   "language": "python",
   "name": "python3"
  },
  "language_info": {
   "codemirror_mode": {
    "name": "ipython",
    "version": 3
   },
   "file_extension": ".py",
   "mimetype": "text/x-python",
   "name": "python",
   "nbconvert_exporter": "python",
   "pygments_lexer": "ipython3",
   "version": "3.10.6"
  }
 },
 "nbformat": 4,
 "nbformat_minor": 5
}
