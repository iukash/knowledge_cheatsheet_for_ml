{
 "cells": [
  {
   "cell_type": "markdown",
   "metadata": {},
   "source": [
    "## Умножение матриц"
   ]
  },
  {
   "cell_type": "code",
   "execution_count": 62,
   "metadata": {},
   "outputs": [
    {
     "name": "stdout",
     "output_type": "stream",
     "text": [
      "матрица A\n",
      "[[3 3 7 2]\n",
      " [4 7 2 1]\n",
      " [2 1 1 4]\n",
      " [5 1 1 5]]\n",
      "матрица B\n",
      " [[2 8 4 3]\n",
      " [5 8 3 5]\n",
      " [9 1 8 4]\n",
      " [5 7 2 6]]\n",
      "матрица C (произведение матриц A и B)\n",
      " [[94 69 81 64]\n",
      " [66 97 55 61]\n",
      " [38 53 27 39]\n",
      " [49 84 41 54]]\n"
     ]
    }
   ],
   "source": [
    "import numpy as np\n",
    "import pandas as pd\n",
    "np.random.seed(123)\n",
    "n = 4\n",
    "m = 4\n",
    "A = pd.DataFrame(np.random.randint(1, 10, (n, m)))\n",
    "print(f'матрица A\\n{A.values}')\n",
    "B = pd.DataFrame(np.random.randint(1, 10, (m, n)))\n",
    "print(f'матрица B\\n {B.values}')\n",
    "C = pd.DataFrame(np.dot(A, B))\n",
    "print(f'матрица C (произведение матриц A и B)\\n {C.values}')"
   ]
  },
  {
   "cell_type": "markdown",
   "metadata": {},
   "source": [
    "### Тривиальный алгоритм за O($n^3$)"
   ]
  },
  {
   "cell_type": "code",
   "execution_count": 63,
   "metadata": {},
   "outputs": [],
   "source": [
    "def matrix_multiply_trivial(A, B):\n",
    "    C = np.random.randint(1, 10, (A.shape[0], B.shape[1]))\n",
    "    print(C.shape)\n",
    "    for k in range(A.shape[0]):\n",
    "        for j in range(A.shape[0]):\n",
    "            c = 0\n",
    "            for i in range(A.shape[1]):\n",
    "                c += A[k][i] * B[i][j]\n",
    "            C[k, j] = c\n",
    "    return C"
   ]
  },
  {
   "cell_type": "code",
   "execution_count": 64,
   "metadata": {},
   "outputs": [
    {
     "name": "stdout",
     "output_type": "stream",
     "text": [
      "(4, 4)\n"
     ]
    },
    {
     "data": {
      "text/plain": [
       "array([[61, 78, 67, 77],\n",
       "       [69, 79, 46, 72],\n",
       "       [37, 59, 77, 57],\n",
       "       [43, 55, 71, 55]])"
      ]
     },
     "execution_count": 64,
     "metadata": {},
     "output_type": "execute_result"
    }
   ],
   "source": [
    "matrix_multiply_trivial(A, B)"
   ]
  },
  {
   "cell_type": "markdown",
   "metadata": {},
   "source": [
    "### Алгоритм разделяй и властвуй"
   ]
  },
  {
   "cell_type": "code",
   "execution_count": 73,
   "metadata": {},
   "outputs": [],
   "source": [
    "def matrix_divide_and_conquer(A, B):\n",
    "    n = A.shape[0]\n",
    "    C = np.random.randint(1, 10, (n, n))\n",
    "    if n == 1:\n",
    "        C.loc[0, 0] = A.loc[0, 0]*B.loc[0, 0]\n",
    "    else:\n",
    "        n_2 = n/2\n",
    "        C.loc[0:n_2, 0:n_2] = (matrix_divide_and_conquer(A[0:n_2-1][0:n_2-1], B[0:n_2-1][0:n_2-1]) + \n",
    "                            matrix_divide_and_conquer(A[0:n_2-1][n_2:n]))\n",
    "    return C"
   ]
  },
  {
   "cell_type": "code",
   "execution_count": 23,
   "metadata": {},
   "outputs": [
    {
     "data": {
      "text/plain": [
       "array([[7, 3, 2, 9],\n",
       "       [4, 6, 1, 3],\n",
       "       [7, 3, 5, 5],\n",
       "       [7, 4, 1, 7]])"
      ]
     },
     "execution_count": 23,
     "metadata": {},
     "output_type": "execute_result"
    }
   ],
   "source": [
    "#A = np.array([[2]])\n",
    "#B = np.array([[3]])\n",
    "matrix_divide_and_conquer(A, B)"
   ]
  },
  {
   "cell_type": "code",
   "execution_count": null,
   "metadata": {},
   "outputs": [],
   "source": []
  }
 ],
 "metadata": {
  "kernelspec": {
   "display_name": "Python 3 (ipykernel)",
   "language": "python",
   "name": "python3"
  },
  "language_info": {
   "codemirror_mode": {
    "name": "ipython",
    "version": 3
   },
   "file_extension": ".py",
   "mimetype": "text/x-python",
   "name": "python",
   "nbconvert_exporter": "python",
   "pygments_lexer": "ipython3",
   "version": "3.9.13"
  }
 },
 "nbformat": 4,
 "nbformat_minor": 2
}
