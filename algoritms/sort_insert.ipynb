{
 "cells": [
  {
   "cell_type": "markdown",
   "id": "aacdb36c",
   "metadata": {},
   "source": [
    "## Сортировка вставкой"
   ]
  },
  {
   "cell_type": "code",
   "execution_count": 39,
   "id": "bce6bdc0",
   "metadata": {},
   "outputs": [
    {
     "name": "stdout",
     "output_type": "stream",
     "text": [
      "[82, 40, 68, 85, 64, 49, 11, 9, 59, 52, 78, 79, 20, 83, 76, 45, 3, 57, 65, 94, 77, 71, 69, 63, 42, 8, 38, 30, 33, 37, 26, 88, 50, 35, 72, 86, 48, 10, 16, 32, 27, 81, 1, 55, 54, 31, 47, 73, 4, 61, 93, 22, 14, 70, 34, 97, 2, 36, 0, 60, 39, 53, 91, 17, 96, 43, 12, 87, 24, 51, 6, 13, 21, 56, 46, 25, 23, 89, 18, 29, 7, 44, 28, 92, 19, 75, 15, 62, 58, 41, 99, 67, 74, 84, 98, 80, 90, 66, 5, 95]\n"
     ]
    }
   ],
   "source": [
    "import random\n",
    "nums = list(range(0, 100))\n",
    "random.shuffle(nums)\n",
    "print(nums)"
   ]
  },
  {
   "cell_type": "code",
   "execution_count": 40,
   "id": "2d797067",
   "metadata": {},
   "outputs": [],
   "source": [
    "def sort_insert(nums: list) -> list:\n",
    "    for i in range(1, len(nums)):\n",
    "        key = nums[i]\n",
    "        while nums[i-1] > key and i > 0:\n",
    "            nums[i] = nums[i-1]\n",
    "            i -= 1\n",
    "        nums[i] = key\n",
    "    return nums"
   ]
  },
  {
   "cell_type": "code",
   "execution_count": 41,
   "id": "3b8d35e1",
   "metadata": {},
   "outputs": [
    {
     "name": "stdout",
     "output_type": "stream",
     "text": [
      "[0, 1, 2, 3, 4, 5, 6, 7, 8, 9, 10, 11, 12, 13, 14, 15, 16, 17, 18, 19, 20, 21, 22, 23, 24, 25, 26, 27, 28, 29, 30, 31, 32, 33, 34, 35, 36, 37, 38, 39, 40, 41, 42, 43, 44, 45, 46, 47, 48, 49, 50, 51, 52, 53, 54, 55, 56, 57, 58, 59, 60, 61, 62, 63, 64, 65, 66, 67, 68, 69, 70, 71, 72, 73, 74, 75, 76, 77, 78, 79, 80, 81, 82, 83, 84, 85, 86, 87, 88, 89, 90, 91, 92, 93, 94, 95, 96, 97, 98, 99]\n"
     ]
    }
   ],
   "source": [
    "print(sort_insert(nums))"
   ]
  },
  {
   "cell_type": "code",
   "execution_count": null,
   "id": "743cdbd6",
   "metadata": {},
   "outputs": [],
   "source": []
  }
 ],
 "metadata": {
  "kernelspec": {
   "display_name": "Python 3 (ipykernel)",
   "language": "python",
   "name": "python3"
  },
  "language_info": {
   "codemirror_mode": {
    "name": "ipython",
    "version": 3
   },
   "file_extension": ".py",
   "mimetype": "text/x-python",
   "name": "python",
   "nbconvert_exporter": "python",
   "pygments_lexer": "ipython3",
   "version": "3.8.10"
  }
 },
 "nbformat": 4,
 "nbformat_minor": 5
}
