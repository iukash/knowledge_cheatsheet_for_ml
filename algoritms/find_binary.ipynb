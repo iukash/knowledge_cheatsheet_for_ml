{
 "cells": [
  {
   "cell_type": "markdown",
   "id": "e6943c68",
   "metadata": {},
   "source": [
    "## Бинарный поиск"
   ]
  },
  {
   "cell_type": "code",
   "execution_count": 15,
   "id": "ff10f533",
   "metadata": {},
   "outputs": [],
   "source": [
    "def find_binary(nums, key):\n",
    "    start_index = 0\n",
    "    end_index = len(nums)\n",
    "    while True:\n",
    "        index_mid = start_index + int((end_index - start_index)/2)\n",
    "        if key == nums[index_mid]:\n",
    "            return index_mid\n",
    "        elif key > nums[index_mid]:\n",
    "            start_index = index_mid\n",
    "        else:\n",
    "            end_index = index_mid\n",
    "    "
   ]
  },
  {
   "cell_type": "code",
   "execution_count": 16,
   "id": "41583e75",
   "metadata": {},
   "outputs": [
    {
     "data": {
      "text/plain": [
       "16"
      ]
     },
     "execution_count": 16,
     "metadata": {},
     "output_type": "execute_result"
    }
   ],
   "source": [
    "lst = list(range(1, 100))\n",
    "find_binary(lst, 17)"
   ]
  }
 ],
 "metadata": {
  "kernelspec": {
   "display_name": "Python 3 (ipykernel)",
   "language": "python",
   "name": "python3"
  },
  "language_info": {
   "codemirror_mode": {
    "name": "ipython",
    "version": 3
   },
   "file_extension": ".py",
   "mimetype": "text/x-python",
   "name": "python",
   "nbconvert_exporter": "python",
   "pygments_lexer": "ipython3",
   "version": "3.8.10"
  }
 },
 "nbformat": 4,
 "nbformat_minor": 5
}
