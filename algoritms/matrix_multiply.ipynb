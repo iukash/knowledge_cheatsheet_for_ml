{
 "cells": [
  {
   "cell_type": "markdown",
   "metadata": {},
   "source": [
    "## Умножение матриц"
   ]
  },
  {
   "cell_type": "code",
   "execution_count": 1,
   "metadata": {},
   "outputs": [
    {
     "name": "stdout",
     "output_type": "stream",
     "text": [
      "матрица A\n",
      "[[3 3 7 2]\n",
      " [4 7 2 1]\n",
      " [2 1 1 4]\n",
      " [5 1 1 5]]\n",
      "матрица B\n",
      " [[2 8 4 3]\n",
      " [5 8 3 5]\n",
      " [9 1 8 4]\n",
      " [5 7 2 6]]\n",
      "матрица C (произведение матриц A и B)\n",
      " [[94 69 81 64]\n",
      " [66 97 55 61]\n",
      " [38 53 27 39]\n",
      " [49 84 41 54]]\n"
     ]
    }
   ],
   "source": [
    "import numpy as np\n",
    "import matplotlib.pyplot as plt\n",
    "import time\n",
    "\n",
    "np.random.seed(123)\n",
    "n = 4\n",
    "m = 4\n",
    "A = np.random.randint(1, 10, (n, m))\n",
    "print(f'матрица A\\n{A}')\n",
    "B = np.random.randint(1, 10, (m, n))\n",
    "print(f'матрица B\\n {B}')\n",
    "C = np.dot(A, B)\n",
    "print(f'матрица C (произведение матриц A и B)\\n {C}')"
   ]
  },
  {
   "cell_type": "markdown",
   "metadata": {},
   "source": [
    "### Тривиальный алгоритм за O($n^3$)"
   ]
  },
  {
   "cell_type": "code",
   "execution_count": 2,
   "metadata": {},
   "outputs": [],
   "source": [
    "def matrix_multiply_trivial(A, B, n):\n",
    "    C = np.random.randint(1, 10, (A.shape[0], B.shape[1]))\n",
    "    print(C.shape)\n",
    "    for k in range(A.shape[0]):\n",
    "        for j in range(A.shape[0]):\n",
    "            c = 0\n",
    "            for i in range(A.shape[1]):\n",
    "                c += A[k][i] * B[i][j]\n",
    "            C[k, j] = c\n",
    "    return C"
   ]
  },
  {
   "cell_type": "code",
   "execution_count": 3,
   "metadata": {},
   "outputs": [
    {
     "name": "stdout",
     "output_type": "stream",
     "text": [
      "(4, 4)\n"
     ]
    },
    {
     "data": {
      "text/plain": [
       "array([[94, 69, 81, 64],\n",
       "       [66, 97, 55, 61],\n",
       "       [38, 53, 27, 39],\n",
       "       [49, 84, 41, 54]])"
      ]
     },
     "execution_count": 3,
     "metadata": {},
     "output_type": "execute_result"
    }
   ],
   "source": [
    "matrix_multiply_trivial(A, B, A.shape[0])"
   ]
  },
  {
   "cell_type": "markdown",
   "metadata": {},
   "source": [
    "Не будем заморачиваться на копировании элементов (хотя надо работать с индексами)"
   ]
  },
  {
   "cell_type": "markdown",
   "metadata": {},
   "source": [
    "### Алгоритм разделяй и властвуй за O($n^3$)"
   ]
  },
  {
   "cell_type": "code",
   "execution_count": 4,
   "metadata": {},
   "outputs": [],
   "source": [
    "def split_matrix(M):\n",
    "    temp = np.hsplit(M, 2)\n",
    "    M11, M21 = np.vsplit(temp[0], 2)\n",
    "    M12, M22 = np.vsplit(temp[1], 2)\n",
    "    return M11, M12, M21, M22"
   ]
  },
  {
   "cell_type": "code",
   "execution_count": 5,
   "metadata": {},
   "outputs": [],
   "source": [
    "def matrix_divide_and_conquer_copy(A, B, n):\n",
    "    C = np.random.randint(1, 10, (n, n))\n",
    "    if n == 1:\n",
    "        C[0][0] = A[0][0]*B[0][0]\n",
    "    else:\n",
    "        n_2 = int(n/2)\n",
    "        C11, C12, C21, C22 = split_matrix(C)\n",
    "        A11, A12, A21, A22 = split_matrix(A)\n",
    "        B11, B12, B21, B22 = split_matrix(B)\n",
    "        C11 = matrix_divide_and_conquer_copy(A11, B11, n_2) + matrix_divide_and_conquer_copy(A12, B21, n_2)\n",
    "        C12 = matrix_divide_and_conquer_copy(A11, B12, n_2) + matrix_divide_and_conquer_copy(A12, B22, n_2)\n",
    "        C21 = matrix_divide_and_conquer_copy(A21, B11, n_2) + matrix_divide_and_conquer_copy(A22, B21, n_2)\n",
    "        C22 = matrix_divide_and_conquer_copy(A21, B12, n_2) + matrix_divide_and_conquer_copy(A22, B22, n_2)\n",
    "        C = np.vstack([np.hstack([C11, C12]), np.hstack([C21, C22])])\n",
    "    return C"
   ]
  },
  {
   "cell_type": "code",
   "execution_count": 6,
   "metadata": {},
   "outputs": [
    {
     "data": {
      "text/plain": [
       "array([[94, 69, 81, 64],\n",
       "       [66, 97, 55, 61],\n",
       "       [38, 53, 27, 39],\n",
       "       [49, 84, 41, 54]])"
      ]
     },
     "execution_count": 6,
     "metadata": {},
     "output_type": "execute_result"
    }
   ],
   "source": [
    "matrix_divide_and_conquer_copy(A, B, A.shape[0])"
   ]
  },
  {
   "cell_type": "markdown",
   "metadata": {},
   "source": [
    "### Алгоритм Штрассена за O($n^{2.8}$)"
   ]
  },
  {
   "cell_type": "code",
   "execution_count": 7,
   "metadata": {},
   "outputs": [],
   "source": [
    "def matrix_shtrassen(A, B, n):\n",
    "    C = np.random.randint(1, 10, (n, n))\n",
    "    if n == 1:\n",
    "        C[0][0] = A[0][0]*B[0][0]\n",
    "    else:\n",
    "        n_2 = int(n/2)\n",
    "        C11, C12, C21, C22 = split_matrix(C)\n",
    "        A11, A12, A21, A22 = split_matrix(A)\n",
    "        B11, B12, B21, B22 = split_matrix(B)\n",
    "        P1 = matrix_divide_and_conquer_copy(A11, B12, n_2) - matrix_divide_and_conquer_copy(A11, B22, n_2)\n",
    "        P2 = matrix_divide_and_conquer_copy(A11, B22, n_2) + matrix_divide_and_conquer_copy(A12, B22, n_2)\n",
    "        P3 = matrix_divide_and_conquer_copy(A21, B11, n_2) + matrix_divide_and_conquer_copy(A22, B11, n_2)\n",
    "        P4 = matrix_divide_and_conquer_copy(A22, B21, n_2) - matrix_divide_and_conquer_copy(A22, B11, n_2)\n",
    "        P5 = (matrix_divide_and_conquer_copy(A11, B11, n_2) + matrix_divide_and_conquer_copy(A11, B22, n_2) +\n",
    "                matrix_divide_and_conquer_copy(A22, B11, n_2) + matrix_divide_and_conquer_copy(A22, B22, n_2))\n",
    "        P6 = (matrix_divide_and_conquer_copy(A12, B21, n_2) + matrix_divide_and_conquer_copy(A12, B22, n_2) -\n",
    "                matrix_divide_and_conquer_copy(A22, B21, n_2) - matrix_divide_and_conquer_copy(A22, B22, n_2))\n",
    "        P7 = (matrix_divide_and_conquer_copy(A11, B11, n_2) + matrix_divide_and_conquer_copy(A11, B12, n_2) - \n",
    "                matrix_divide_and_conquer_copy(A21, B11, n_2) - matrix_divide_and_conquer_copy(A21, B12, n_2))\n",
    "        \n",
    "        C11 = P5 + P4 - P2 + P6\n",
    "        C12 = P1 + P2\n",
    "        C21 = P3 + P4\n",
    "        C22 = P5 + P1 - P3 - P7\n",
    "        C = np.vstack([np.hstack([C11, C12]), np.hstack([C21, C22])])\n",
    "    return C"
   ]
  },
  {
   "cell_type": "code",
   "execution_count": 8,
   "metadata": {},
   "outputs": [
    {
     "data": {
      "text/plain": [
       "array([[94, 69, 81, 64],\n",
       "       [66, 97, 55, 61],\n",
       "       [38, 53, 27, 39],\n",
       "       [49, 84, 41, 54]])"
      ]
     },
     "execution_count": 8,
     "metadata": {},
     "output_type": "execute_result"
    }
   ],
   "source": [
    "matrix_shtrassen(A, B, A.shape[0])"
   ]
  },
  {
   "cell_type": "markdown",
   "metadata": {},
   "source": [
    "### Визуальное сравнение скорости работы алгоритмов"
   ]
  },
  {
   "cell_type": "code",
   "execution_count": 9,
   "metadata": {},
   "outputs": [
    {
     "name": "stdout",
     "output_type": "stream",
     "text": [
      "(4, 4)\n",
      "(16, 16)\n",
      "(64, 64)\n",
      "(256, 256)\n"
     ]
    },
    {
     "data": {
      "image/png": "[encoded data removed]",
      "text/plain": [
       "<Figure size 1700x500 with 1 Axes>"
      ]
     },
     "metadata": {},
     "output_type": "display_data"
    }
   ],
   "source": [
    "def count_time(func, A, B, n):\n",
    "    start_time = time.time()\n",
    "    func(A, B, n)\n",
    "    return(time.time() - start_time)\n",
    "    \n",
    "lst_n = []\n",
    "lst_time_trivial = []\n",
    "lst_time_divide = []\n",
    "lst_time_shrassen = []\n",
    "n = 1\n",
    "\n",
    "for x in range(1, 5, 1):\n",
    "    n = 4**x\n",
    "    A = np.random.randint(1, 10, (n, n))\n",
    "    B = np.random.randint(1, 10, (n, n))\n",
    "    lst_n.append(n)\n",
    "    lst_time_trivial.append(count_time(matrix_multiply_trivial, A, B, A.shape[0]))\n",
    "    lst_time_divide.append(count_time(matrix_divide_and_conquer_copy, A, B, A.shape[0]))\n",
    "    lst_time_shrassen.append(count_time(matrix_shtrassen, A, B, A.shape[0]))\n",
    "    \n",
    "plt.figure(figsize=(17, 5))\n",
    "plt.plot(lst_n, lst_time_trivial, label='n3', color='blue')\n",
    "plt.plot(lst_n, lst_time_divide, label='n3', color='green')\n",
    "plt.plot(lst_n, lst_time_shrassen, label='n2.8', color='orange')\n",
    "plt.legend()\n",
    "plt.show()"
   ]
  },
  {
   "cell_type": "code",
   "execution_count": null,
   "metadata": {},
   "outputs": [],
   "source": []
  }
 ],
 "metadata": {
  "kernelspec": {
   "display_name": "Python 3 (ipykernel)",
   "language": "python",
   "name": "python3"
  },
  "language_info": {
   "codemirror_mode": {
    "name": "ipython",
    "version": 3
   },
   "file_extension": ".py",
   "mimetype": "text/x-python",
   "name": "python",
   "nbconvert_exporter": "python",
   "pygments_lexer": "ipython3",
   "version": "3.8.10"
  }
 },
 "nbformat": 4,
 "nbformat_minor": 4
}
