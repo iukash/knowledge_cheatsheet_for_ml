{
 "cells": [
  {
   "cell_type": "markdown",
   "id": "d467a952",
   "metadata": {},
   "source": [
    "### TimeSeries\n",
    "[project yandex practicum](https://github.com/iukash/project_yandex_practicum/tree/master/15_time_series)\n",
    "* [data.index.is_monotonic](https://pandas.pydata.org/docs/reference/api/pandas.Index.is_monotonic.html) - проверка индекса на монотонность\n",
    "* [resample](https://pandas.pydata.org/docs/reference/api/pandas.DataFrame.resample.html) - ресемплинг - среднее по каждому часу `data.resample('1H').mean()`\n",
    "* [rolling](https://pandas.pydata.org/docs/reference/api/pandas.DataFrame.rolling.html) - скользящее среднее `data.rolling(7).mean()`\n",
    "* [seasonal_decompose](https://www.statsmodels.org/dev/generated/statsmodels.tsa.seasonal.seasonal_decompose.html) - Разложение временного ряда на тренд, сезонность и остаток\n",
    " * `decomposed = seasonal_decompose(data)`\n",
    " * `decomposed.trend # тренд`\n",
    " * `decomposed.seasonal # сезонная составляющая`\n",
    " * `decomposed.resid # остаток декомпозиции`\n",
    "* [shift](https://pandas.pydata.org/docs/reference/api/pandas.DataFrame.shift.html) - Сдвиг на один шаг с заполнением нулевого значения `data.shift(fill_value=0)`\n",
    "* [train_test_split](https://scikit-learn.org/stable/modules/generated/sklearn.model_selection.train_test_split.html) - не перемешиваем `train, test = train_test_split(data, shuffle=False, test_size=0.2)`\n",
    "* Создание календарных признаков - \n",
    " * `data['year'] = data.index.year #признак, в котором хранится год как число`\n",
    " * `data['dayofweek'] = data.index.dayofweek # признак, в котором хранится день недели как число`\n",
    "* Формирование отстающих признаков\n",
    " * `data['lag_1'] = data['target'].shift(1)`\n",
    " * `data['lag_2'] = data['target'].shift(2)`\n",
    " * `data['lag_3'] = data['target'].shift(3)`\n",
    "* Добавление признака скользящего среднего\n",
    " * `data['rolling_mean'] = data['target'].rolling(5).mean()`"
   ]
  },
  {
   "cell_type": "code",
   "execution_count": null,
   "id": "4a0efebe",
   "metadata": {},
   "outputs": [],
   "source": []
  }
 ],
 "metadata": {
  "kernelspec": {
   "display_name": "Python 3 (ipykernel)",
   "language": "python",
   "name": "python3"
  },
  "language_info": {
   "codemirror_mode": {
    "name": "ipython",
    "version": 3
   },
   "file_extension": ".py",
   "mimetype": "text/x-python",
   "name": "python",
   "nbconvert_exporter": "python",
   "pygments_lexer": "ipython3",
   "version": "3.10.6"
  }
 },
 "nbformat": 4,
 "nbformat_minor": 5
}
