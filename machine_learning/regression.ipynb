{
 "cells": [
  {
   "cell_type": "markdown",
   "id": "1995b7e5",
   "metadata": {},
   "source": [
    "### Регрессия\n",
    "* линейная регрессия [мой разбор регрессии](http://localhost:8888/notebooks/knowledge_cheatsheet_for_ml/machine_learning/my_ml_algoritms/LinearRegression.ipynb) | [разбор почему l1 отборает признаки](http://localhost:8888/notebooks/knowledge_cheatsheet_for_ml/machine_learning/my_ml_algoritms/l1_l2_regularization.ipynb) / sklearn: [LinearRegression](https://scikit-learn.org/stable/modules/generated/sklearn.linear_model.LinearRegression.html) / [Ridge](https://scikit-learn.org/stable/modules/generated/sklearn.linear_model.Ridge.html#sklearn.linear_model.Ridge) / [Lasso](https://scikit-learn.org/stable/modules/generated/sklearn.linear_model.Lasso.html#sklearn.linear_model.Lasso) / [ElasticNet](https://scikit-learn.org/stable/modules/generated/sklearn.linear_model.ElasticNet.html#sklearn.linear_model.ElasticNet)\n",
    "* дерево решений [мой разбор](http://localhost:8888/notebooks/knowledge_cheatsheet_for_ml/machine_learning/my_ml_algoritms/DecisionTrees.ipynb) [sklearn](https://scikit-learn.org/stable/modules/generated/sklearn.tree.DecisionTreeRegressor.html)\n",
    "* случайный лес [sklearn](https://scikit-learn.org/stable/modules/generated/sklearn.ensemble.RandomForestRegressor.html)\n",
    "* градиентный бустиег\n",
    " * [XGBRegressor()](https://xgboost.readthedocs.io/en/stable/python/python_api.html#xgboost.XGBRegressor)\n",
    " * [LGBMRegressor()](https://lightgbm.readthedocs.io/en/latest/pythonapi/lightgbm.LGBMRegressor.html)\n",
    " * [CatBoostRegressor()](https://catboost.ai/en/docs/concepts/python-reference_catboostregressor)\n",
    "* [DummyRegressor()](https://scikit-learn.org/stable/modules/generated/sklearn.dummy.DummyRegressor.html) - формирование предсказаний без учета признаков `sklearn.dummy.DummyRegressor(strategy)`\n",
    " \n",
    "**Метрики качества регрессии**\n",
    " * [mean_squared_error()](https://scikit-learn.org/stable/modules/generated/sklearn.metrics.mean_squared_error.html) - средняя квадратичная ошибка `mse = sklearn.metrics.mean_squared_error(squared=True)`\n",
    " * [mean_absolute_error()](https://scikit-learn.org/stable/modules/generated/sklearn.metrics.mean_absolute_error.html) - среднее абсолютное отклонение `sklearn.metrics.mean_absolute_error()`\n",
    " * [r2_score()](https://scikit-learn.org/stable/modules/generated/sklearn.metrics.r2_score.html) - вычисляет долю средней квадратичной ошибки модели от MSE среднего, а затем вычитает эту величину из единицы `sklearn.metrics.r2_score()`"
   ]
  },
  {
   "cell_type": "code",
   "execution_count": null,
   "id": "a44f75c3",
   "metadata": {},
   "outputs": [],
   "source": []
  }
 ],
 "metadata": {
  "kernelspec": {
   "display_name": "Python 3 (ipykernel)",
   "language": "python",
   "name": "python3"
  },
  "language_info": {
   "codemirror_mode": {
    "name": "ipython",
    "version": 3
   },
   "file_extension": ".py",
   "mimetype": "text/x-python",
   "name": "python",
   "nbconvert_exporter": "python",
   "pygments_lexer": "ipython3",
   "version": "3.10.6"
  }
 },
 "nbformat": 4,
 "nbformat_minor": 5
}
