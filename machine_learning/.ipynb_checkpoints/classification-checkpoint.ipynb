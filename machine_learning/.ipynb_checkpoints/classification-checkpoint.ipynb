{
 "cells": [
  {
   "cell_type": "markdown",
   "id": "6cefb2c0",
   "metadata": {},
   "source": [
    "### Классификация\n",
    "* метод ближайших соседей [мой разбор](http://localhost:8888/notebooks/knowledge_cheatsheet_for_ml/machine_learning/my_ml_algoritms/NearestNeighbors.ipynb) / [sklearn](https://scikit-learn.org/stable/modules/generated/sklearn.neighbors.NearestNeighbors.html)\n",
    "* логистическая регрессия [мой разбор](http://localhost:8888/notebooks/knowledge_cheatsheet_for_ml/machine_learning/my_ml_algoritms/LogisticRegression.ipynb) / [sklearn](https://scikit-learn.org/stable/modules/generated/sklearn.linear_model.LogisticRegression.html)\n",
    "* решающее дерево [мой разбор](http://localhost:8888/notebooks/knowledge_cheatsheet_for_ml/machine_learning/my_ml_algoritms/DecisionTrees.ipynb) / [sklearn](https://scikit-learn.org/stable/modules/generated/sklearn.tree.DecisionTreeClassifier.html)\n",
    "* случайный лес [sklearn](https://scikit-learn.org/stable/modules/generated/sklearn.ensemble.RandomForestClassifier.html?highlight=random%20forest)\n",
    "* градиентный бустинг \n",
    " * XGB [sklearn](https://xgboost.readthedocs.io/en/stable/python/python_api.html#xgboost.XGBClassifier)\n",
    " * LGBM [sklearn](https://lightgbm.readthedocs.io/en/latest/pythonapi/lightgbm.LGBMClassifier.html)\n",
    " * CatBoost [sklearn](https://catboost.ai/en/docs/concepts/python-reference_catboostclassifier)\n",
    "* [DummyClassifier()](https://scikit-learn.org/stable/modules/generated/sklearn.dummy.DummyClassifier.html) - формирование предсказаний без учета признаков `sklearn.dummy.DummyClassifier(strategy)`\n",
    "\n",
    "**Метрики качества классификации**\n",
    " * [accuracy_score()](https://scikit-learn.org/stable/modules/generated/sklearn.metrics.accuracy_score.html) - вычислить долю правильных ответов `sklearn.metrics.accuracy_score()`\n",
    " * [f1_score()](https://scikit-learn.org/stable/modules/generated/sklearn.metrics.f1_score.html) - f1-мера (среднее гармоническое полноты и точности) `sklearn.metrics.f1_score()`\n",
    " * [recall_score()](https://scikit-learn.org/stable/modules/generated/sklearn.metrics.recall_score.html) - полнота модели (доля TP-ответов среди всех, у которых истинная метка 1) `sklearn.metrics.recall_score()`\n",
    " * [precision_score()](https://scikit-learn.org/stable/modules/generated/sklearn.metrics.precision_score.html) - точность модели (как много отрицательных ответов нашла модель, пока искала положительные) `sklearn.metrics.precision_score()`\n",
    " * [roc_curve()](https://scikit-learn.org/stable/modules/generated/sklearn.metrics.roc_curve.html) - функция на вход принимает значения целевого признака и вероятности положительного класса, перебирает разные пороги и возвращает три списка: значения FPR, значения TPR и рассмотренные пороги `fpr, tpr, thresholds = sklearn.metrics.roc_curve()`\n",
    " * [roc_auc_score()](https://scikit-learn.org/stable/modules/generated/sklearn.metrics.roc_auc_score.html) - вычислить площадь подкривой ROC `sklearn.metrics.roc_auc_score(y, model.predict_proba(X)[:, 1])`\n",
    " * [confusion_matrix()](https://scikit-learn.org/stable/modules/generated/sklearn.metrics.confusion_matrix.html) - матрица ошибок TP, FP, TN, FN `sklearn.metrics.confusion_matrix()`"
   ]
  },
  {
   "cell_type": "code",
   "execution_count": null,
   "id": "790c9c3b",
   "metadata": {},
   "outputs": [],
   "source": []
  }
 ],
 "metadata": {
  "kernelspec": {
   "display_name": "Python 3 (ipykernel)",
   "language": "python",
   "name": "python3"
  },
  "language_info": {
   "codemirror_mode": {
    "name": "ipython",
    "version": 3
   },
   "file_extension": ".py",
   "mimetype": "text/x-python",
   "name": "python",
   "nbconvert_exporter": "python",
   "pygments_lexer": "ipython3",
   "version": "3.10.6"
  }
 },
 "nbformat": 4,
 "nbformat_minor": 5
}
