{
 "cells": [
  {
   "cell_type": "markdown",
   "id": "f9d93f65",
   "metadata": {},
   "source": [
    "### [Keras](https://keras.io/guides/sequential_model/)  <a class=\"anchor\" id=\"keras\"></a> `from tensorflow import keras`\n",
    "* `model = keras.models.Sequential()` - инициализация модели\n",
    "* `model.add(keras.layers.Dense(units=1, input_dim=features.shape[1], activation='sigmoid'))` - добавление слоя\n",
    "* `model.add(Conv2D(filters=4, kernel_size=(3, 3), input_shape=(28, 28, 1), activation='relu'))` - сверточный слой\n",
    "* `model.compile(loss='mean_squared_error', optimizer='sgd', metrics=['acc'])` - параметры обучения \n",
    "loss = {'linear_reg': 'mean_squared_error', 'log_reg': 'binary_crossentropy', 'full_neiro': 'binary_crossentropy'}\n",
    "* `model.fit(features, target, verbose=2, epochs=1, validation_data = (features_test, target_test))` - обучение\n",
    "\n",
    "* ```from PIL import Image\n",
    "image = Image.open('/datasets/ds_cv_images/face.png')\n",
    "array = np.array(image)``` - получить изображение в формате вектора"
   ]
  },
  {
   "cell_type": "code",
   "execution_count": null,
   "id": "cca9b9c8",
   "metadata": {},
   "outputs": [],
   "source": []
  }
 ],
 "metadata": {
  "kernelspec": {
   "display_name": "Python 3 (ipykernel)",
   "language": "python",
   "name": "python3"
  },
  "language_info": {
   "codemirror_mode": {
    "name": "ipython",
    "version": 3
   },
   "file_extension": ".py",
   "mimetype": "text/x-python",
   "name": "python",
   "nbconvert_exporter": "python",
   "pygments_lexer": "ipython3",
   "version": "3.10.6"
  }
 },
 "nbformat": 4,
 "nbformat_minor": 5
}
