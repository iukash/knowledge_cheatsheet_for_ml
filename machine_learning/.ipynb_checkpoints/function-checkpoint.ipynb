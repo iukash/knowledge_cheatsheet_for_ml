{
 "cells": [
  {
   "cell_type": "markdown",
   "id": "d06df7bc",
   "metadata": {},
   "source": [
    "### Функции\n",
    "**Создание тренировочной и тестовой выборок**\n",
    "* [train_test_split()](https://scikit-learn.org/stable/modules/generated/sklearn.model_selection.train_test_split.html) - разделить датасет на тренировочную и тестовую выборку `df_train, df_valid = sklearn.model_selection.train_test_split(df, test_size)`\n",
    "\n",
    "**Предобработка**\n",
    "* [OrdinalEncoder](https://scikit-learn.org/stable/modules/generated/sklearn.preprocessing.OrdinalEncoder.html) - кодирование признака по номеру категории (каждому классу соответствует своя цифра)\n",
    " * `from sklearn.preprocessing import OrdinalEncoder ` \n",
    " * `encoder = OrdinalEncoder()`\n",
    " * `data_ordinal = pd.DataFrame(encoder.fit_transform(data), columns=data.columns) `\n",
    "* [StandardScaler](https://scikit-learn.org/stable/modules/generated/sklearn.preprocessing.StandardScaler.html) - стандартизация (нормирование) переменной\n",
    " * `from sklearn.preprocessing import StandardScaler`\n",
    " * `scaler = StandardScaler()`\n",
    " * `scaler.fit_transform(features_train)`\n",
    "* [get_dummies](https://pandas.pydata.org/pandas-docs/stable/reference/api/pandas.get_dummies.html) - возвращает таблицу, закодированную по принципу One Hot Enconding OHE `pd.get_dummies(data, drop_first=False)`\n",
    "* [shuffle()](https://scikit-learn.org/stable/modules/generated/sklearn.utils.shuffle.html) - перемешать данные `sklearn.utils.shuffle()`\n",
    "\n",
    "**Кроссвалидация**\n",
    "* [KFold](https://scikit-learn.org/stable/modules/generated/sklearn.model_selection.KFold.html#sklearn.model_selection.KFold) - разделение выборки по индексам для кросс-валидации `sklearn.model_selection.KFold(n_splits, shuffle)`\n",
    "* [StratifiedKFold](https://scikit-learn.org/stable/modules/generated/sklearn.model_selection.StratifiedKFold.html) - стратифицированная выборка для кросс-валидации (для несбалансированных классов) ` train_index, test_index next(sklearn.model_selection.StratifiedKFold(n_splits, shuffle).split(X, y))`\n",
    "* [cross_val_score()](https://scikit-learn.org/stable/modules/generated/sklearn.model_selection.cross_val_score.html) - оценка модели методом кросс-валидации `sklearn.model_selection.cross_val_score(model, features, target, cv)`\n",
    "\n",
    "**Сохранение/загрузка модели**\n",
    "* [joblib.dump()](https://joblib.readthedocs.io/en/latest/generated/joblib.dump.html) - сохранение обученной модели `joblib.dump(model, 'model.joblib')`\n",
    "* [joblib.load()](https://joblib.readthedocs.io/en/latest/generated/joblib.load.html) - загрузка обученной модели `model = joblib.load('model.joblib')`"
   ]
  },
  {
   "cell_type": "code",
   "execution_count": null,
   "id": "45c3bfaa",
   "metadata": {},
   "outputs": [],
   "source": []
  }
 ],
 "metadata": {
  "kernelspec": {
   "display_name": "Python 3 (ipykernel)",
   "language": "python",
   "name": "python3"
  },
  "language_info": {
   "codemirror_mode": {
    "name": "ipython",
    "version": 3
   },
   "file_extension": ".py",
   "mimetype": "text/x-python",
   "name": "python",
   "nbconvert_exporter": "python",
   "pygments_lexer": "ipython3",
   "version": "3.10.6"
  }
 },
 "nbformat": 4,
 "nbformat_minor": 5
}
