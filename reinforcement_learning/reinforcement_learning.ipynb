{
 "cells": [
  {
   "cell_type": "markdown",
   "id": "dc1fef32-45fa-461a-abcb-95bc490a583f",
   "metadata": {},
   "source": [
    "[введение и постановка задачи](http://127.0.0.1:8888/notebooks/knowledge_cheatsheet_for_ml%2Freinforcement_learning%2Fintroduction.ipynb)\n",
    "\n",
    "[метод кросс-энтропии](http://localhost:8888/notebooks/knowledge_cheatsheet_for_ml%2Freinforcement_learning%2FCross_entropy_method.ipynb)"
   ]
  },
  {
   "cell_type": "code",
   "execution_count": null,
   "id": "c395032b-4bfa-4b03-bd14-8f0fa899306d",
   "metadata": {},
   "outputs": [],
   "source": []
  }
 ],
 "metadata": {
  "kernelspec": {
   "display_name": "Python 3 (ipykernel)",
   "language": "python",
   "name": "python3"
  },
  "language_info": {
   "codemirror_mode": {
    "name": "ipython",
    "version": 3
   },
   "file_extension": ".py",
   "mimetype": "text/x-python",
   "name": "python",
   "nbconvert_exporter": "python",
   "pygments_lexer": "ipython3",
   "version": "3.8.10"
  }
 },
 "nbformat": 4,
 "nbformat_minor": 5
}
